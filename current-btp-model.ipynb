{
 "cells": [
  {
   "cell_type": "markdown",
   "id": "ef127e1b",
   "metadata": {
    "papermill": {
     "duration": 0.009611,
     "end_time": "2023-12-30T06:28:36.758008",
     "exception": false,
     "start_time": "2023-12-30T06:28:36.748397",
     "status": "completed"
    },
    "tags": []
   },
   "source": [
    "## Setup"
   ]
  },
  {
   "cell_type": "code",
   "execution_count": 1,
   "id": "ac85b12c",
   "metadata": {
    "execution": {
     "iopub.execute_input": "2023-12-30T06:28:36.777157Z",
     "iopub.status.busy": "2023-12-30T06:28:36.776285Z",
     "iopub.status.idle": "2023-12-30T06:28:46.757726Z",
     "shell.execute_reply": "2023-12-30T06:28:46.756477Z"
    },
    "papermill": {
     "duration": 9.994737,
     "end_time": "2023-12-30T06:28:46.760974",
     "exception": false,
     "start_time": "2023-12-30T06:28:36.766237",
     "status": "completed"
    },
    "tags": []
   },
   "outputs": [],
   "source": [
    "import tensorflow as tf\n",
    "from tensorflow import keras\n",
    "\n",
    "import matplotlib.pyplot as plt\n",
    "import numpy as np\n",
    "\n",
    "import os"
   ]
  },
  {
   "cell_type": "code",
   "execution_count": 2,
   "id": "7b84e8dc",
   "metadata": {
    "execution": {
     "iopub.execute_input": "2023-12-30T06:28:46.780657Z",
     "iopub.status.busy": "2023-12-30T06:28:46.779209Z",
     "iopub.status.idle": "2023-12-30T06:28:46.786243Z",
     "shell.execute_reply": "2023-12-30T06:28:46.785117Z"
    },
    "papermill": {
     "duration": 0.019804,
     "end_time": "2023-12-30T06:28:46.788985",
     "exception": false,
     "start_time": "2023-12-30T06:28:46.769181",
     "status": "completed"
    },
    "tags": []
   },
   "outputs": [],
   "source": [
    "image_size = 224\n",
    "target_size = (image_size, image_size)\n",
    "input_shape = (image_size, image_size, 3)\n",
    "\n",
    "batch_size = 32\n",
    "epochs = 25"
   ]
  },
  {
   "cell_type": "code",
   "execution_count": 3,
   "id": "fecba278",
   "metadata": {
    "execution": {
     "iopub.execute_input": "2023-12-30T06:28:46.807324Z",
     "iopub.status.busy": "2023-12-30T06:28:46.806898Z",
     "iopub.status.idle": "2023-12-30T06:28:46.813346Z",
     "shell.execute_reply": "2023-12-30T06:28:46.811900Z"
    },
    "papermill": {
     "duration": 0.019236,
     "end_time": "2023-12-30T06:28:46.816266",
     "exception": false,
     "start_time": "2023-12-30T06:28:46.797030",
     "status": "completed"
    },
    "tags": []
   },
   "outputs": [],
   "source": [
    "base_dir = \"../input/new-plant-diseases-dataset/new plant diseases dataset(augmented)/New Plant Diseases Dataset(Augmented)\"\n",
    "train_dir = os.path.join(base_dir,\"train\")\n",
    "test_dir = os.path.join(base_dir,\"valid\")"
   ]
  },
  {
   "cell_type": "code",
   "execution_count": 4,
   "id": "c4fe712b",
   "metadata": {
    "execution": {
     "iopub.execute_input": "2023-12-30T06:28:46.834900Z",
     "iopub.status.busy": "2023-12-30T06:28:46.834449Z",
     "iopub.status.idle": "2023-12-30T06:28:46.842186Z",
     "shell.execute_reply": "2023-12-30T06:28:46.840791Z"
    },
    "papermill": {
     "duration": 0.020104,
     "end_time": "2023-12-30T06:28:46.844948",
     "exception": false,
     "start_time": "2023-12-30T06:28:46.824844",
     "status": "completed"
    },
    "tags": []
   },
   "outputs": [],
   "source": [
    "train_datagen = keras.preprocessing.image.ImageDataGenerator(rescale = 1/255.0,\n",
    "                                                             shear_range = 0.2,\n",
    "                                                             zoom_range = 0.2,\n",
    "                                                             width_shift_range = 0.2,\n",
    "                                                             height_shift_range = 0.2,\n",
    "                                                             fill_mode=\"nearest\")\n",
    "\n",
    "test_datagen = keras.preprocessing.image.ImageDataGenerator(rescale = 1/255.0)"
   ]
  },
  {
   "cell_type": "markdown",
   "id": "26997b21",
   "metadata": {
    "papermill": {
     "duration": 0.007594,
     "end_time": "2023-12-30T06:28:46.860601",
     "exception": false,
     "start_time": "2023-12-30T06:28:46.853007",
     "status": "completed"
    },
    "tags": []
   },
   "source": [
    "Let's prepare our data. We will use `.flow_from_directory()` to generate batches of image data (and their labels) directly from our images in their respective folders."
   ]
  },
  {
   "cell_type": "code",
   "execution_count": 5,
   "id": "5d7b8f3e",
   "metadata": {
    "execution": {
     "iopub.execute_input": "2023-12-30T06:28:46.879261Z",
     "iopub.status.busy": "2023-12-30T06:28:46.877764Z",
     "iopub.status.idle": "2023-12-30T06:30:14.375821Z",
     "shell.execute_reply": "2023-12-30T06:30:14.374367Z"
    },
    "papermill": {
     "duration": 87.510637,
     "end_time": "2023-12-30T06:30:14.379053",
     "exception": false,
     "start_time": "2023-12-30T06:28:46.868416",
     "status": "completed"
    },
    "tags": []
   },
   "outputs": [
    {
     "name": "stdout",
     "output_type": "stream",
     "text": [
      "Found 70295 images belonging to 38 classes.\n",
      "Found 17572 images belonging to 38 classes.\n"
     ]
    }
   ],
   "source": [
    "train_data = train_datagen.flow_from_directory(train_dir,\n",
    "                                               target_size = (image_size, image_size),\n",
    "                                               batch_size = batch_size,\n",
    "                                               class_mode = \"categorical\")\n",
    "\n",
    "test_data = test_datagen.flow_from_directory(test_dir,\n",
    "                                             target_size = (image_size, image_size),\n",
    "                                             batch_size = batch_size,\n",
    "                                             class_mode = \"categorical\")"
   ]
  },
  {
   "cell_type": "code",
   "execution_count": 6,
   "id": "8c8ce669",
   "metadata": {
    "execution": {
     "iopub.execute_input": "2023-12-30T06:30:14.398727Z",
     "iopub.status.busy": "2023-12-30T06:30:14.397687Z",
     "iopub.status.idle": "2023-12-30T06:30:14.404407Z",
     "shell.execute_reply": "2023-12-30T06:30:14.403174Z"
    },
    "papermill": {
     "duration": 0.019573,
     "end_time": "2023-12-30T06:30:14.407335",
     "exception": false,
     "start_time": "2023-12-30T06:30:14.387762",
     "status": "completed"
    },
    "tags": []
   },
   "outputs": [
    {
     "name": "stdout",
     "output_type": "stream",
     "text": [
      "{'Apple___Apple_scab': 0, 'Apple___Black_rot': 1, 'Apple___Cedar_apple_rust': 2, 'Apple___healthy': 3, 'Blueberry___healthy': 4, 'Cherry_(including_sour)___Powdery_mildew': 5, 'Cherry_(including_sour)___healthy': 6, 'Corn_(maize)___Cercospora_leaf_spot Gray_leaf_spot': 7, 'Corn_(maize)___Common_rust_': 8, 'Corn_(maize)___Northern_Leaf_Blight': 9, 'Corn_(maize)___healthy': 10, 'Grape___Black_rot': 11, 'Grape___Esca_(Black_Measles)': 12, 'Grape___Leaf_blight_(Isariopsis_Leaf_Spot)': 13, 'Grape___healthy': 14, 'Orange___Haunglongbing_(Citrus_greening)': 15, 'Peach___Bacterial_spot': 16, 'Peach___healthy': 17, 'Pepper,_bell___Bacterial_spot': 18, 'Pepper,_bell___healthy': 19, 'Potato___Early_blight': 20, 'Potato___Late_blight': 21, 'Potato___healthy': 22, 'Raspberry___healthy': 23, 'Soybean___healthy': 24, 'Squash___Powdery_mildew': 25, 'Strawberry___Leaf_scorch': 26, 'Strawberry___healthy': 27, 'Tomato___Bacterial_spot': 28, 'Tomato___Early_blight': 29, 'Tomato___Late_blight': 30, 'Tomato___Leaf_Mold': 31, 'Tomato___Septoria_leaf_spot': 32, 'Tomato___Spider_mites Two-spotted_spider_mite': 33, 'Tomato___Target_Spot': 34, 'Tomato___Tomato_Yellow_Leaf_Curl_Virus': 35, 'Tomato___Tomato_mosaic_virus': 36, 'Tomato___healthy': 37}\n"
     ]
    }
   ],
   "source": [
    "categories = list(train_data.class_indices.keys())\n",
    "print(train_data.class_indices)"
   ]
  },
  {
   "cell_type": "code",
   "execution_count": 7,
   "id": "9c57e3ba",
   "metadata": {
    "execution": {
     "iopub.execute_input": "2023-12-30T06:30:14.427502Z",
     "iopub.status.busy": "2023-12-30T06:30:14.426360Z",
     "iopub.status.idle": "2023-12-30T06:30:14.437493Z",
     "shell.execute_reply": "2023-12-30T06:30:14.435947Z"
    },
    "papermill": {
     "duration": 0.024467,
     "end_time": "2023-12-30T06:30:14.440135",
     "exception": false,
     "start_time": "2023-12-30T06:30:14.415668",
     "status": "completed"
    },
    "tags": []
   },
   "outputs": [
    {
     "data": {
      "text/html": [
       "<a href='class_indices.json' target='_blank'>class_indices.json</a><br>"
      ],
      "text/plain": [
       "/kaggle/working/class_indices.json"
      ]
     },
     "execution_count": 7,
     "metadata": {},
     "output_type": "execute_result"
    }
   ],
   "source": [
    "import json\n",
    "with open('class_indices.json','w') as f:\n",
    "  json.dump(train_data.class_indices, f)\n",
    "\n",
    "from IPython.display import FileLink\n",
    "FileLink(r'class_indices.json')"
   ]
  },
  {
   "cell_type": "markdown",
   "id": "99056697",
   "metadata": {
    "papermill": {
     "duration": 0.008102,
     "end_time": "2023-12-30T06:30:14.456630",
     "exception": false,
     "start_time": "2023-12-30T06:30:14.448528",
     "status": "completed"
    },
    "tags": []
   },
   "source": [
    "## Training\n"
   ]
  },
  {
   "cell_type": "code",
   "execution_count": 8,
   "id": "1c414507",
   "metadata": {
    "execution": {
     "iopub.execute_input": "2023-12-30T06:30:14.476044Z",
     "iopub.status.busy": "2023-12-30T06:30:14.475310Z",
     "iopub.status.idle": "2023-12-30T06:30:15.850629Z",
     "shell.execute_reply": "2023-12-30T06:30:15.849048Z"
    },
    "papermill": {
     "duration": 1.389675,
     "end_time": "2023-12-30T06:30:15.854759",
     "exception": false,
     "start_time": "2023-12-30T06:30:14.465084",
     "status": "completed"
    },
    "tags": []
   },
   "outputs": [
    {
     "name": "stdout",
     "output_type": "stream",
     "text": [
      "Downloading data from https://storage.googleapis.com/tensorflow/keras-applications/mobilenet/mobilenet_1_0_224_tf_no_top.h5\n",
      "17225924/17225924 [==============================] - 0s 0us/step\n"
     ]
    }
   ],
   "source": [
    "base_model = tf.keras.applications.MobileNet(weights = \"imagenet\",\n",
    "                                             include_top = False,\n",
    "                                             input_shape = input_shape)\n",
    "\n",
    "base_model.trainable = False"
   ]
  },
  {
   "cell_type": "markdown",
   "id": "573e1eae",
   "metadata": {
    "papermill": {
     "duration": 0.009154,
     "end_time": "2023-12-30T06:30:15.874284",
     "exception": false,
     "start_time": "2023-12-30T06:30:15.865130",
     "status": "completed"
    },
    "tags": []
   },
   "source": [
    "We now create a small upstream model on top of the MobileNet using the functional API"
   ]
  },
  {
   "cell_type": "code",
   "execution_count": 9,
   "id": "91693558",
   "metadata": {
    "execution": {
     "iopub.execute_input": "2023-12-30T06:30:15.894339Z",
     "iopub.status.busy": "2023-12-30T06:30:15.893848Z",
     "iopub.status.idle": "2023-12-30T06:30:16.194837Z",
     "shell.execute_reply": "2023-12-30T06:30:16.193639Z"
    },
    "papermill": {
     "duration": 0.315146,
     "end_time": "2023-12-30T06:30:16.198468",
     "exception": false,
     "start_time": "2023-12-30T06:30:15.883322",
     "status": "completed"
    },
    "tags": []
   },
   "outputs": [],
   "source": [
    "inputs = keras.Input(shape = input_shape)\n",
    "\n",
    "x = base_model(inputs, training = False)\n",
    "x = tf.keras.layers.GlobalAveragePooling2D()(x)\n",
    "x = tf.keras.layers.Dropout(0.2)(x)\n",
    "x = tf.keras.layers.Dense(len(categories), \n",
    "                          activation=\"softmax\")(x)\n",
    "\n",
    "model = keras.Model(inputs = inputs, \n",
    "                    outputs = x, \n",
    "                    name=\"LeafDisease_MobileNet\")"
   ]
  },
  {
   "cell_type": "markdown",
   "id": "ff228029",
   "metadata": {
    "papermill": {
     "duration": 0.009893,
     "end_time": "2023-12-30T06:30:16.217387",
     "exception": false,
     "start_time": "2023-12-30T06:30:16.207494",
     "status": "completed"
    },
    "tags": []
   },
   "source": [
    "In our multiple experiments we found out Adam optimizer to work really well with it's default learning rate, $\\beta_1$, $\\beta_2$ and $\\epsilon$ values"
   ]
  },
  {
   "cell_type": "code",
   "execution_count": 10,
   "id": "640302a0",
   "metadata": {
    "execution": {
     "iopub.execute_input": "2023-12-30T06:30:16.238830Z",
     "iopub.status.busy": "2023-12-30T06:30:16.237976Z",
     "iopub.status.idle": "2023-12-30T06:30:16.267817Z",
     "shell.execute_reply": "2023-12-30T06:30:16.266669Z"
    },
    "papermill": {
     "duration": 0.043972,
     "end_time": "2023-12-30T06:30:16.270906",
     "exception": false,
     "start_time": "2023-12-30T06:30:16.226934",
     "status": "completed"
    },
    "tags": []
   },
   "outputs": [],
   "source": [
    "optimizer = tf.keras.optimizers.Adam()\n",
    "\n",
    "model.compile(optimizer = optimizer,\n",
    "              loss = tf.keras.losses.CategoricalCrossentropy(from_logits = True),\n",
    "              metrics=[keras.metrics.CategoricalAccuracy(), \n",
    "                       'accuracy'])"
   ]
  },
  {
   "cell_type": "code",
   "execution_count": 11,
   "id": "fcbb4a5b",
   "metadata": {
    "execution": {
     "iopub.execute_input": "2023-12-30T06:30:16.292159Z",
     "iopub.status.busy": "2023-12-30T06:30:16.291183Z",
     "iopub.status.idle": "2023-12-30T08:18:37.917117Z",
     "shell.execute_reply": "2023-12-30T08:18:37.915285Z"
    },
    "papermill": {
     "duration": 6501.640562,
     "end_time": "2023-12-30T08:18:37.920545",
     "exception": false,
     "start_time": "2023-12-30T06:30:16.279983",
     "status": "completed"
    },
    "tags": []
   },
   "outputs": [
    {
     "name": "stdout",
     "output_type": "stream",
     "text": [
      "Epoch 1/25\n"
     ]
    },
    {
     "name": "stderr",
     "output_type": "stream",
     "text": [
      "/opt/conda/lib/python3.7/site-packages/keras/backend.py:5535: UserWarning: \"`categorical_crossentropy` received `from_logits=True`, but the `output` argument was produced by a Softmax activation and thus does not represent logits. Was this intended?\n",
      "  output, from_logits, \"Softmax\", \"categorical_crossentropy\"\n"
     ]
    },
    {
     "name": "stdout",
     "output_type": "stream",
     "text": [
      "150/150 [==============================] - 264s 2s/step - loss: 1.9759 - categorical_accuracy: 0.4883 - accuracy: 0.4883 - val_loss: 0.7578 - val_categorical_accuracy: 0.8172 - val_accuracy: 0.8172\n",
      "Epoch 2/25\n",
      "150/150 [==============================] - 257s 2s/step - loss: 0.7689 - categorical_accuracy: 0.7923 - accuracy: 0.7923 - val_loss: 0.4915 - val_categorical_accuracy: 0.8634 - val_accuracy: 0.8634\n",
      "Epoch 3/25\n",
      "150/150 [==============================] - 257s 2s/step - loss: 0.5521 - categorical_accuracy: 0.8408 - accuracy: 0.8408 - val_loss: 0.3923 - val_categorical_accuracy: 0.8891 - val_accuracy: 0.8891\n",
      "Epoch 4/25\n",
      "150/150 [==============================] - 256s 2s/step - loss: 0.4557 - categorical_accuracy: 0.8648 - accuracy: 0.8648 - val_loss: 0.3461 - val_categorical_accuracy: 0.8963 - val_accuracy: 0.8963\n",
      "Epoch 5/25\n",
      "150/150 [==============================] - 256s 2s/step - loss: 0.4025 - categorical_accuracy: 0.8798 - accuracy: 0.8798 - val_loss: 0.3015 - val_categorical_accuracy: 0.9097 - val_accuracy: 0.9097\n",
      "Epoch 6/25\n",
      "150/150 [==============================] - 257s 2s/step - loss: 0.3800 - categorical_accuracy: 0.8844 - accuracy: 0.8844 - val_loss: 0.2754 - val_categorical_accuracy: 0.9156 - val_accuracy: 0.9156\n",
      "Epoch 7/25\n",
      "150/150 [==============================] - 253s 2s/step - loss: 0.3409 - categorical_accuracy: 0.8931 - accuracy: 0.8931 - val_loss: 0.2207 - val_categorical_accuracy: 0.9337 - val_accuracy: 0.9337\n",
      "Epoch 8/25\n",
      "150/150 [==============================] - 254s 2s/step - loss: 0.3255 - categorical_accuracy: 0.9021 - accuracy: 0.9021 - val_loss: 0.2362 - val_categorical_accuracy: 0.9244 - val_accuracy: 0.9244\n",
      "Epoch 9/25\n",
      "150/150 [==============================] - 252s 2s/step - loss: 0.3093 - categorical_accuracy: 0.9004 - accuracy: 0.9004 - val_loss: 0.2198 - val_categorical_accuracy: 0.9303 - val_accuracy: 0.9303\n",
      "Epoch 10/25\n",
      "150/150 [==============================] - 244s 2s/step - loss: 0.2912 - categorical_accuracy: 0.9031 - accuracy: 0.9031 - val_loss: 0.2107 - val_categorical_accuracy: 0.9319 - val_accuracy: 0.9319\n",
      "Epoch 11/25\n",
      "150/150 [==============================] - 250s 2s/step - loss: 0.2626 - categorical_accuracy: 0.9190 - accuracy: 0.9190 - val_loss: 0.2130 - val_categorical_accuracy: 0.9341 - val_accuracy: 0.9341\n",
      "Epoch 12/25\n",
      "150/150 [==============================] - 248s 2s/step - loss: 0.2621 - categorical_accuracy: 0.9150 - accuracy: 0.9150 - val_loss: 0.2012 - val_categorical_accuracy: 0.9319 - val_accuracy: 0.9319\n",
      "Epoch 13/25\n",
      "150/150 [==============================] - 250s 2s/step - loss: 0.2588 - categorical_accuracy: 0.9200 - accuracy: 0.9200 - val_loss: 0.1837 - val_categorical_accuracy: 0.9375 - val_accuracy: 0.9375\n",
      "Epoch 14/25\n",
      "150/150 [==============================] - 247s 2s/step - loss: 0.2466 - categorical_accuracy: 0.9237 - accuracy: 0.9237 - val_loss: 0.1922 - val_categorical_accuracy: 0.9344 - val_accuracy: 0.9344\n",
      "Epoch 15/25\n",
      "150/150 [==============================] - 245s 2s/step - loss: 0.2427 - categorical_accuracy: 0.9242 - accuracy: 0.9242 - val_loss: 0.1857 - val_categorical_accuracy: 0.9375 - val_accuracy: 0.9375\n",
      "Epoch 16/25\n",
      "150/150 [==============================] - 248s 2s/step - loss: 0.2382 - categorical_accuracy: 0.9200 - accuracy: 0.9200 - val_loss: 0.1934 - val_categorical_accuracy: 0.9384 - val_accuracy: 0.9384\n",
      "Epoch 17/25\n",
      "150/150 [==============================] - 245s 2s/step - loss: 0.2229 - categorical_accuracy: 0.9256 - accuracy: 0.9256 - val_loss: 0.1819 - val_categorical_accuracy: 0.9381 - val_accuracy: 0.9381\n",
      "Epoch 18/25\n",
      "150/150 [==============================] - 248s 2s/step - loss: 0.2361 - categorical_accuracy: 0.9248 - accuracy: 0.9248 - val_loss: 0.1700 - val_categorical_accuracy: 0.9469 - val_accuracy: 0.9469\n",
      "Epoch 19/25\n",
      "150/150 [==============================] - 248s 2s/step - loss: 0.2275 - categorical_accuracy: 0.9237 - accuracy: 0.9237 - val_loss: 0.1405 - val_categorical_accuracy: 0.9566 - val_accuracy: 0.9566\n",
      "Epoch 20/25\n",
      "150/150 [==============================] - 243s 2s/step - loss: 0.2187 - categorical_accuracy: 0.9229 - accuracy: 0.9229 - val_loss: 0.1472 - val_categorical_accuracy: 0.9513 - val_accuracy: 0.9513\n",
      "Epoch 21/25\n",
      "150/150 [==============================] - 242s 2s/step - loss: 0.2253 - categorical_accuracy: 0.9256 - accuracy: 0.9256 - val_loss: 0.1691 - val_categorical_accuracy: 0.9372 - val_accuracy: 0.9372\n",
      "Epoch 22/25\n",
      "150/150 [==============================] - 241s 2s/step - loss: 0.2095 - categorical_accuracy: 0.9296 - accuracy: 0.9296 - val_loss: 0.1615 - val_categorical_accuracy: 0.9447 - val_accuracy: 0.9447\n",
      "Epoch 23/25\n",
      "150/150 [==============================] - 243s 2s/step - loss: 0.2024 - categorical_accuracy: 0.9302 - accuracy: 0.9302 - val_loss: 0.1684 - val_categorical_accuracy: 0.9428 - val_accuracy: 0.9428\n",
      "Epoch 24/25\n",
      "150/150 [==============================] - 246s 2s/step - loss: 0.2124 - categorical_accuracy: 0.9290 - accuracy: 0.9290 - val_loss: 0.1591 - val_categorical_accuracy: 0.9491 - val_accuracy: 0.9491\n",
      "Epoch 25/25\n",
      "150/150 [==============================] - 247s 2s/step - loss: 0.2159 - categorical_accuracy: 0.9290 - accuracy: 0.9290 - val_loss: 0.1675 - val_categorical_accuracy: 0.9469 - val_accuracy: 0.9469\n"
     ]
    }
   ],
   "source": [
    "history = model.fit(train_data,\n",
    "                    validation_data=test_data,\n",
    "                    epochs=epochs,\n",
    "                    steps_per_epoch=150,\n",
    "                    validation_steps=100)"
   ]
  },
  {
   "cell_type": "markdown",
   "id": "6a86ee93",
   "metadata": {
    "papermill": {
     "duration": 0.36135,
     "end_time": "2023-12-30T08:18:38.642255",
     "exception": false,
     "start_time": "2023-12-30T08:18:38.280905",
     "status": "completed"
    },
    "tags": []
   },
   "source": [
    "## Review the training process"
   ]
  },
  {
   "cell_type": "code",
   "execution_count": 12,
   "id": "1107e6fc",
   "metadata": {
    "execution": {
     "iopub.execute_input": "2023-12-30T08:18:39.368409Z",
     "iopub.status.busy": "2023-12-30T08:18:39.367954Z",
     "iopub.status.idle": "2023-12-30T08:18:39.709355Z",
     "shell.execute_reply": "2023-12-30T08:18:39.707935Z"
    },
    "papermill": {
     "duration": 0.708447,
     "end_time": "2023-12-30T08:18:39.712200",
     "exception": false,
     "start_time": "2023-12-30T08:18:39.003753",
     "status": "completed"
    },
    "tags": []
   },
   "outputs": [
    {
     "data": {
      "text/plain": [
       "<matplotlib.legend.Legend at 0x78dc3af896d0>"
      ]
     },
     "execution_count": 12,
     "metadata": {},
     "output_type": "execute_result"
    },
    {
     "data": {
      "image/png": "[encoded data removed]",
      "text/plain": [
       "<Figure size 1000x600 with 1 Axes>"
      ]
     },
     "metadata": {},
     "output_type": "display_data"
    }
   ],
   "source": [
    "loss = history.history['loss']\n",
    "val_loss = history.history['val_loss']\n",
    "\n",
    "epochs = range(len(loss))\n",
    "\n",
    "fig = plt.figure(figsize=(10,6))\n",
    "plt.plot(epochs,loss,c=\"red\",label=\"Training\")\n",
    "plt.plot(epochs,val_loss,c=\"blue\",label=\"Validation\")\n",
    "plt.xlabel(\"Epochs\")\n",
    "plt.ylabel(\"Loss\")\n",
    "plt.legend()"
   ]
  },
  {
   "cell_type": "code",
   "execution_count": 13,
   "id": "f624b8fb",
   "metadata": {
    "execution": {
     "iopub.execute_input": "2023-12-30T08:18:40.520378Z",
     "iopub.status.busy": "2023-12-30T08:18:40.519116Z",
     "iopub.status.idle": "2023-12-30T08:18:40.817247Z",
     "shell.execute_reply": "2023-12-30T08:18:40.815729Z"
    },
    "papermill": {
     "duration": 0.664848,
     "end_time": "2023-12-30T08:18:40.820336",
     "exception": false,
     "start_time": "2023-12-30T08:18:40.155488",
     "status": "completed"
    },
    "tags": []
   },
   "outputs": [
    {
     "data": {
      "text/plain": [
       "<matplotlib.legend.Legend at 0x78dc3af89a90>"
      ]
     },
     "execution_count": 13,
     "metadata": {},
     "output_type": "execute_result"
    },
    {
     "data": {
      "image/png": "[encoded data removed]",
      "text/plain": [
       "<Figure size 1000x600 with 1 Axes>"
      ]
     },
     "metadata": {},
     "output_type": "display_data"
    }
   ],
   "source": [
    "acc = history.history['categorical_accuracy']\n",
    "val_acc = history.history['val_categorical_accuracy']\n",
    "\n",
    "epochs = range(len(acc))\n",
    "\n",
    "fig = plt.figure(figsize=(10,6))\n",
    "plt.plot(epochs,acc,c=\"red\",label=\"Training\")\n",
    "plt.plot(epochs,val_acc,c=\"blue\",label=\"Validation\")\n",
    "plt.xlabel(\"Epochs\")\n",
    "plt.ylabel(\"Accuracy\")\n",
    "plt.legend()"
   ]
  },
  {
   "cell_type": "markdown",
   "id": "7ed03f58",
   "metadata": {
    "papermill": {
     "duration": 0.36616,
     "end_time": "2023-12-30T08:18:41.547727",
     "exception": false,
     "start_time": "2023-12-30T08:18:41.181567",
     "status": "completed"
    },
    "tags": []
   },
   "source": [
    "## Save the model\n",
    "We finally save the model in the standard TensorFlow 2 SavedModel format."
   ]
  },
  {
   "cell_type": "code",
   "execution_count": 14,
   "id": "b3ae7511",
   "metadata": {
    "execution": {
     "iopub.execute_input": "2023-12-30T08:18:42.273536Z",
     "iopub.status.busy": "2023-12-30T08:18:42.273117Z",
     "iopub.status.idle": "2023-12-30T08:18:57.121427Z",
     "shell.execute_reply": "2023-12-30T08:18:57.120302Z"
    },
    "papermill": {
     "duration": 15.211888,
     "end_time": "2023-12-30T08:18:57.124322",
     "exception": false,
     "start_time": "2023-12-30T08:18:41.912434",
     "status": "completed"
    },
    "tags": []
   },
   "outputs": [],
   "source": [
    "model.save('plant_disease')"
   ]
  },
  {
   "cell_type": "markdown",
   "id": "e82ba8fc",
   "metadata": {
    "papermill": {
     "duration": 0.38845,
     "end_time": "2023-12-30T08:18:57.878688",
     "exception": false,
     "start_time": "2023-12-30T08:18:57.490238",
     "status": "completed"
    },
    "tags": []
   },
   "source": [
    "## Converting to tflite Model"
   ]
  },
  {
   "cell_type": "code",
   "execution_count": 15,
   "id": "ca545397",
   "metadata": {
    "execution": {
     "iopub.execute_input": "2023-12-30T08:18:58.605640Z",
     "iopub.status.busy": "2023-12-30T08:18:58.604719Z",
     "iopub.status.idle": "2023-12-30T08:19:24.517802Z",
     "shell.execute_reply": "2023-12-30T08:19:24.516263Z"
    },
    "papermill": {
     "duration": 26.280384,
     "end_time": "2023-12-30T08:19:24.521309",
     "exception": false,
     "start_time": "2023-12-30T08:18:58.240925",
     "status": "completed"
    },
    "tags": []
   },
   "outputs": [],
   "source": [
    "import tensorflow as tf\n",
    "\n",
    "# Convert the model\n",
    "converter = tf.lite.TFLiteConverter.from_keras_model(model)\n",
    "tflite_model = converter.convert()\n",
    "\n",
    "# Save the TFLite model\n",
    "with open('model.tflite', 'wb') as f:\n",
    "    f.write(tflite_model)"
   ]
  },
  {
   "cell_type": "code",
   "execution_count": null,
   "id": "29897c54",
   "metadata": {
    "papermill": {
     "duration": 0.43437,
     "end_time": "2023-12-30T08:19:25.319926",
     "exception": false,
     "start_time": "2023-12-30T08:19:24.885556",
     "status": "completed"
    },
    "tags": []
   },
   "outputs": [],
   "source": []
  }
 ],
 "metadata": {
  "kaggle": {
   "accelerator": "none",
   "dataSources": [
    {
     "datasetId": 78313,
     "sourceId": 182633,
     "sourceType": "datasetVersion"
    }
   ],
   "dockerImageVersionId": 30445,
   "isGpuEnabled": false,
   "isInternetEnabled": true,
   "language": "python",
   "sourceType": "notebook"
  },
  "kernelspec": {
   "display_name": "Python 3",
   "language": "python",
   "name": "python3"
  },
  "language_info": {
   "codemirror_mode": {
    "name": "ipython",
    "version": 3
   },
   "file_extension": ".py",
   "mimetype": "text/x-python",
   "name": "python",
   "nbconvert_exporter": "python",
   "pygments_lexer": "ipython3",
   "version": "3.7.12"
  },
  "papermill": {
   "default_parameters": {},
   "duration": 6666.250177,
   "end_time": "2023-12-30T08:19:28.943849",
   "environment_variables": {},
   "exception": null,
   "input_path": "__notebook__.ipynb",
   "output_path": "__notebook__.ipynb",
   "parameters": {},
   "start_time": "2023-12-30T06:28:22.693672",
   "version": "2.4.0"
  }
 },
 "nbformat": 4,
 "nbformat_minor": 5
}
