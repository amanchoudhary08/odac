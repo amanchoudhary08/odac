{
  "nbformat": 4,
  "nbformat_minor": 0,
  "metadata": {
    "colab": {
      "provenance": []
    },
    "kernelspec": {
      "name": "python3",
      "display_name": "Python 3"
    },
    "language_info": {
      "name": "python"
    }
  },
  "cells": [
    {
      "cell_type": "code",
      "source": [
        "# Read more: https://medium.com/@mohammedijas/print-names-in-certificate-using-python-from-a-list-fe920392bf51\n",
        "\n",
        "from PIL import Image, ImageFont, ImageDraw\n",
        "\n",
        "FONT_FILE = ImageFont.truetype(r'GreatVibes-Regular.ttf', 250)\n",
        "FONT_COLOR = \"#000000\"\n",
        "WIDTH, HEIGHT = 1776, 1253\n",
        "\n",
        "\n",
        "def make_cert(name):\n",
        "    \"\"\"function to generate certificate\"\"\"\n",
        "    image_source = Image.open(r'cert_template.jpg')\n",
        "    draw = ImageDraw.Draw(image_source)\n",
        "    name_width, name_height = draw.textsize(name, font=FONT_FILE)\n",
        "    draw.text((WIDTH-name_width/2, HEIGHT-name_height/2), name, fill=FONT_COLOR, font=FONT_FILE)\n",
        "    image_source.save(\"./out/\" + name+\".jpg\")\n",
        "    print('printing certificate of: '+name)\n",
        "\n",
        "\n",
        "names = ['Mohit Vyas', 'Shobhit', 'Aditya ', 'Jemee', 'Render']\n",
        "for x in names:\n",
        "    make_cert(x)"
      ],
      "metadata": {
        "colab": {
          "base_uri": "https://localhost:8080/"
        },
        "id": "-zxw0fHd3EJR",
        "outputId": "afbf3c92-d003-4fde-bf2b-54b1e99d6e78"
      },
      "execution_count": null,
      "outputs": [
        {
          "output_type": "stream",
          "name": "stderr",
          "text": [
            "<ipython-input-8-cd68bf613e1c>:17: DeprecationWarning: textsize is deprecated and will be removed in Pillow 10 (2023-07-01). Use textbbox or textlength instead.\n",
            "  name_width, name_height = draw.textsize(name, font=FONT_FILE)\n",
            "<ipython-input-8-cd68bf613e1c>:17: DeprecationWarning: textsize is deprecated and will be removed in Pillow 10 (2023-07-01). Use textbbox or textlength instead.\n",
            "  name_width, name_height = draw.textsize(name, font=FONT_FILE)\n"
          ]
        },
        {
          "output_type": "stream",
          "name": "stdout",
          "text": [
            "printing certificate of: Mohit Vyas\n",
            "printing certificate of: Shobhit\n"
          ]
        },
        {
          "output_type": "stream",
          "name": "stderr",
          "text": [
            "<ipython-input-8-cd68bf613e1c>:17: DeprecationWarning: textsize is deprecated and will be removed in Pillow 10 (2023-07-01). Use textbbox or textlength instead.\n",
            "  name_width, name_height = draw.textsize(name, font=FONT_FILE)\n",
            "<ipython-input-8-cd68bf613e1c>:17: DeprecationWarning: textsize is deprecated and will be removed in Pillow 10 (2023-07-01). Use textbbox or textlength instead.\n",
            "  name_width, name_height = draw.textsize(name, font=FONT_FILE)\n"
          ]
        },
        {
          "output_type": "stream",
          "name": "stdout",
          "text": [
            "printing certificate of: Aditya \n",
            "printing certificate of: Jemee\n",
            "printing certificate of: Render\n"
          ]
        },
        {
          "output_type": "stream",
          "name": "stderr",
          "text": [
            "<ipython-input-8-cd68bf613e1c>:17: DeprecationWarning: textsize is deprecated and will be removed in Pillow 10 (2023-07-01). Use textbbox or textlength instead.\n",
            "  name_width, name_height = draw.textsize(name, font=FONT_FILE)\n"
          ]
        }
      ]
    },
    {
      "cell_type": "code",
      "source": [
        "#email sending\n",
        "from google.colab import auth\n",
        "auth.authenticate_user()\n",
        "\n",
        "import gspread\n",
        "from google.auth import default\n",
        "creds, _ = default()\n",
        "\n",
        "gc = gspread.authorize(creds)\n",
        "\n",
        "import pandas as pd\n",
        "import matplotlib.pyplot as plt\n",
        "import smtplib\n",
        "\n",
        "gmail_user = 'odac@iitrpr.ac.in'\n",
        "gmail_password = '<password>'\n",
        "\n",
        "# wb = gc.open_by_url('https://docs.google.com/spreadsheets/d/1YTD0pxdGTGAzM8IiWDfLL4AZPjrFRN-vpGUiLQWOtoI/edit#gid=1512387781')\n",
        "\n",
        "wb = gc.open_by_url('https://docs.google.com/spreadsheets/d/1-2DTFFytJLnVTCYLfO95x6QX_0vQ4SvHBsOgrn_Syco/edit#gid=0')\n",
        "\n",
        "sheet = wb.worksheet('Sheet1')\n",
        "\n",
        "data = sheet.get_all_values()\n",
        "\n",
        "df = pd.DataFrame(data)\n",
        "df.columns = df.iloc[0]\n",
        "df = df.iloc[1:]\n",
        "\n",
        "df.head()\n",
        "print(df.iloc[1][1])\n",
        "\n",
        "len1 = len(df)\n",
        "# print(len1)\n",
        "\n",
        "for i in range (0, len1):\n",
        "  mail_from = gmail_user\n",
        "  reciepent = df.iloc[i][1]\n",
        "  mail_to = reciepent\n",
        "  mail_subject = 'test mail2'\n",
        "  c = df.iloc[i][0]\n",
        "  mail_message_body = 'Hello' + c + 'Greetings from ODAC, your chest number is '+ df.iloc[i][2]\n",
        "\n",
        "\n",
        "  mail_message = '''\\\n",
        "  From: %s\n",
        "  To: %s\n",
        "  Subject: %s\n",
        "  %s\n",
        "  ''' % (mail_from, mail_to, mail_subject, mail_message_body)\n",
        "\n",
        "  server = smtplib.SMTP_SSL('smtp.gmail.com', 465)\n",
        "  server.login(gmail_user, gmail_password)\n",
        "  server.sendmail(mail_from, mail_to, mail_message)\n",
        "  server.close()\n",
        "\n",
        "print('finished')\n",
        "\n"
      ],
      "metadata": {
        "id": "VpPAWZONgHhv"
      },
      "execution_count": null,
      "outputs": []
    }
  ]
}